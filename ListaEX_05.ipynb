{
 "cells": [
  {
   "cell_type": "markdown",
   "metadata": {},
   "source": [
    "**Exercício 01:** Uma matriz xadrez segue o seguinte padrão:\n",
    "\n",
    "```\n",
    "[[0,1]\n",
    "[1,0]]\n",
    "```\n",
    "\n",
    "Construa uma matriz 8x8 na variável `matriz` com esse padrão.\n",
    "\n",
    "Faça uma variável `matriz2`, também 8x8, sem utilizar o comando `for`."
   ]
  },
  {
   "cell_type": "code",
   "execution_count": 29,
   "metadata": {
    "collapsed": false,
    "scrolled": true
   },
   "outputs": [
    {
     "name": "stdout",
     "output_type": "stream",
     "text": [
      "[[ 0.  1.  0.  1.  0.  1.  0.  1.]\n",
      " [ 1.  0.  1.  0.  1.  0.  1.  0.]\n",
      " [ 0.  1.  0.  1.  0.  1.  0.  1.]\n",
      " [ 1.  0.  1.  0.  1.  0.  1.  0.]\n",
      " [ 0.  1.  0.  1.  0.  1.  0.  1.]\n",
      " [ 1.  0.  1.  0.  1.  0.  1.  0.]\n",
      " [ 0.  1.  0.  1.  0.  1.  0.  1.]\n",
      " [ 1.  0.  1.  0.  1.  0.  1.  0.]] \n",
      "\n",
      "[[ 1.  0.  1.  0.  1.  0.  1.  0.]\n",
      " [ 0.  1.  0.  1.  0.  1.  0.  1.]\n",
      " [ 1.  0.  1.  0.  1.  0.  1.  0.]\n",
      " [ 0.  1.  0.  1.  0.  1.  0.  1.]\n",
      " [ 1.  0.  1.  0.  1.  0.  1.  0.]\n",
      " [ 0.  1.  0.  1.  0.  1.  0.  1.]\n",
      " [ 1.  0.  1.  0.  1.  0.  1.  0.]\n",
      " [ 0.  1.  0.  1.  0.  1.  0.  1.]] \n",
      "\n"
     ]
    }
   ],
   "source": [
    "# crie uma matriz 8 x 8 com valores em forma de xadrez 0,1\n",
    "import numpy as np\n",
    "\n",
    "p1=np.array([0.,1]) \n",
    "p2=np.array([1,0])\n",
    "y1=np.resize(p1, (1, 8))\n",
    "y2=np.resize(p2, (1, 8))\n",
    "a=np.concatenate((y1, y2))\n",
    "matriz=np.resize(a, (8, 8))\n",
    "matriz2=np.concatenate((y2, y1))\n",
    "b=np.concatenate((y2,y1))\n",
    "matriz2=np.resize(b, (8, 8))\n",
    "\n",
    "print matriz, '\\n'  \n",
    "print matriz2, '\\n'"
   ]
  },
  {
   "cell_type": "markdown",
   "metadata": {},
   "source": [
    "Opção 2:\n",
    "\n",
    "import numpy as np \n",
    "\n",
    "matriz = np.zeros([8,8])\n",
    "for i in range(0,8):\n",
    "    #for j in range (0,8):\n",
    "        #if (i+j)%2:\n",
    "            #matriz[i,j]=1"
   ]
  },
  {
   "cell_type": "markdown",
   "metadata": {},
   "source": [
    "**Exercício 02:** Uma matriz normalizada é definda por:\n",
    "\n",
    "$$\n",
    "n_{ij} = \\frac{a_{ij} - min(A)}{max(A)-min(A)}\n",
    "$$\n",
    "\n",
    "Normalize a matriz abaixo."
   ]
  },
  {
   "cell_type": "code",
   "execution_count": 50,
   "metadata": {
    "collapsed": false
   },
   "outputs": [
    {
     "name": "stdout",
     "output_type": "stream",
     "text": [
      "[[ 0.5   0.25  0.    1.    0.  ]\n",
      " [ 0.25  0.    0.75  1.    0.  ]\n",
      " [ 1.    0.25  0.    1.    0.5 ]]\n"
     ]
    }
   ],
   "source": [
    "# normalize uma matriz\n",
    "matriz = np.array( [[3.,2.,1.,5.,1.],[2.,1.,4.,5.,1.],[5.,2.,1.,5.,3.] ] )\n",
    "matriz2 = np.zeros_like(matriz)\n",
    "a=matriz.max()\n",
    "b=matriz.min()\n",
    "for i in range (3):\n",
    "    for j in range (5):\n",
    "        matriz2[i,j]= ((matriz[i,j] - b)/(a-b))\n",
    "\n",
    "        \n",
    "print matriz2\n"
   ]
  },
  {
   "cell_type": "markdown",
   "metadata": {},
   "source": [
    "**Exercício 03:** A matriz Z representa uma matriz com coordenadas cartesianas, converta cada linha para coordenada polar, dado que:\n",
    "\n",
    "$$\n",
    "X, Y -> \\rho, \\theta \\\\\n",
    "\\rho = \\sqrt(X^2 + Y^2) \\\\\n",
    "\\theta = arctan2(Y,X)\n",
    "$$\n",
    "\n",
    "Faça utilizando laço `for` (em Z2) e sem usar laços (Z3)."
   ]
  },
  {
   "cell_type": "code",
   "execution_count": 3,
   "metadata": {
    "collapsed": false
   },
   "outputs": [
    {
     "name": "stdout",
     "output_type": "stream",
     "text": [
      "[[ 10.19803903   0.19739556]\n",
      " [  6.10327781   0.61072596]\n",
      " [  4.27200187   1.28606589]\n",
      " [  4.48325774   0.77593472]]\n",
      "\n",
      "[[ 0.  0.]\n",
      " [ 0.  0.]\n",
      " [ 0.  0.]\n",
      " [ 0.  0.]]\n"
     ]
    }
   ],
   "source": [
    "import numpy as np\n",
    "# converter matriz N x 2 representando coordenadas cartesianas em polares\n",
    "Z = np.array([[10.,2.],[5.,3.5],[1.2,4.1],[3.2,3.14]])\n",
    "Z2 = np.zeros_like(Z)\n",
    "Z3 = np.zeros_like(Z)\n",
    "\n",
    "for i in range (4):\n",
    "    Z2[i,0] = np.sqrt(Z[i][0]**2+Z[i][1]**2)\n",
    "    Z2[i,1] = np.arctan2(Z[i][1], Z[i][0])\n",
    "        \n",
    "\n",
    "\n",
    "\n",
    "print Z2\n",
    "print\n",
    "print Z3"
   ]
  },
  {
   "cell_type": "markdown",
   "metadata": {},
   "source": [
    "**Exercício 04:** Substitua o maior valor da matriz Z por 0 e mostre o novo maior valor"
   ]
  },
  {
   "cell_type": "code",
   "execution_count": 32,
   "metadata": {
    "collapsed": false
   },
   "outputs": [
    {
     "name": "stdout",
     "output_type": "stream",
     "text": [
      "5.0\n"
     ]
    }
   ],
   "source": [
    "# função que substitui o maior valor por 0 e retorna o maior valor\n",
    "Z = np.array([[10.,2.],[5.,3.5],[1.2,4.1],[3.2,3.14]])\n",
    "def subs(Z):\n",
    "    pos_i=0\n",
    "    pos_j=0\n",
    "    maior = Z[0][0]\n",
    "    for i in range(0,len(Z)):\n",
    "        for j in range(0,len(Z[0])):\n",
    "            if Z[i][j]>maior:\n",
    "                maior = Z[i][j]\n",
    "                pos_i=i\n",
    "                pos_j=j\n",
    "            \n",
    "    Z[pos_i][pos_j] = 0\n",
    "    return Z.max()\n",
    "\n",
    "print subs(Z)\n"
   ]
  },
  {
   "cell_type": "markdown",
   "metadata": {},
   "source": [
    "**Exercício 05:** Dado um vetor X e uma matriz Y, construa um vetor D em que cada elemento i é a distância Euclidiana entre X e o i-ésimo elemento de Y."
   ]
  },
  {
   "cell_type": "code",
   "execution_count": 50,
   "metadata": {
    "collapsed": false
   },
   "outputs": [
    {
     "ename": "IndexError",
     "evalue": "too many indices for array",
     "output_type": "error",
     "traceback": [
      "\u001b[1;31m---------------------------------------------------------------------------\u001b[0m",
      "\u001b[1;31mIndexError\u001b[0m                                Traceback (most recent call last)",
      "\u001b[1;32m<ipython-input-50-cdd35a585ad6>\u001b[0m in \u001b[0;36m<module>\u001b[1;34m()\u001b[0m\n\u001b[0;32m     11\u001b[0m \u001b[1;32mfor\u001b[0m \u001b[0mi\u001b[0m \u001b[1;32min\u001b[0m \u001b[0mrange\u001b[0m\u001b[1;33m(\u001b[0m\u001b[1;36m0\u001b[0m\u001b[1;33m,\u001b[0m\u001b[0mlen\u001b[0m\u001b[1;33m(\u001b[0m\u001b[0mX\u001b[0m\u001b[1;33m)\u001b[0m\u001b[1;33m)\u001b[0m\u001b[1;33m:\u001b[0m\u001b[1;33m\u001b[0m\u001b[0m\n\u001b[0;32m     12\u001b[0m     \u001b[1;32mfor\u001b[0m \u001b[0mj\u001b[0m \u001b[1;32min\u001b[0m \u001b[0mrange\u001b[0m\u001b[1;33m(\u001b[0m\u001b[1;36m0\u001b[0m\u001b[1;33m,\u001b[0m \u001b[0mlen\u001b[0m\u001b[1;33m(\u001b[0m\u001b[0mY\u001b[0m\u001b[1;33m[\u001b[0m\u001b[1;36m0\u001b[0m\u001b[1;33m]\u001b[0m\u001b[1;33m)\u001b[0m\u001b[1;33m)\u001b[0m\u001b[1;33m:\u001b[0m\u001b[1;33m\u001b[0m\u001b[0m\n\u001b[1;32m---> 13\u001b[1;33m         \u001b[0mD\u001b[0m\u001b[1;33m[\u001b[0m\u001b[0mi\u001b[0m\u001b[1;33m,\u001b[0m\u001b[0mj\u001b[0m\u001b[1;33m]\u001b[0m \u001b[1;33m=\u001b[0m \u001b[0mmath\u001b[0m\u001b[1;33m.\u001b[0m\u001b[0msqrt\u001b[0m\u001b[1;33m(\u001b[0m\u001b[1;33m(\u001b[0m\u001b[0mX\u001b[0m\u001b[1;33m[\u001b[0m\u001b[0mi\u001b[0m\u001b[1;33m,\u001b[0m\u001b[0mj\u001b[0m\u001b[1;33m]\u001b[0m\u001b[1;33m**\u001b[0m\u001b[1;36m2\u001b[0m\u001b[1;33m)\u001b[0m\u001b[1;33m+\u001b[0m\u001b[1;33m(\u001b[0m\u001b[0mY\u001b[0m\u001b[1;33m[\u001b[0m\u001b[0mi\u001b[0m\u001b[1;33m,\u001b[0m\u001b[0mj\u001b[0m\u001b[1;33m]\u001b[0m\u001b[1;33m**\u001b[0m\u001b[1;36m2\u001b[0m\u001b[1;33m)\u001b[0m\u001b[1;33m)\u001b[0m\u001b[1;33m\u001b[0m\u001b[0m\n\u001b[0m\u001b[0;32m     14\u001b[0m \u001b[1;33m\u001b[0m\u001b[0m\n\u001b[0;32m     15\u001b[0m \u001b[1;32mprint\u001b[0m \u001b[0mD\u001b[0m\u001b[1;33m\u001b[0m\u001b[0m\n",
      "\u001b[1;31mIndexError\u001b[0m: too many indices for array"
     ]
    }
   ],
   "source": [
    "# calcule a distância euclidiana entre x e uma matriz de pontos Y\n",
    "import math\n",
    "X = np.array([ 0.17, 0.59, 0.75, 0.78,0.47, 0.10, 0.06,0.37,0.66,0.10])\n",
    "Y = np.array( [[ 0.82,  0.96,  0.53,  0.61,  0.76,  0.3,   0.95,  0.81,  0.53,  0.84],\n",
    " [ 0.7,   0.49,  0.07,  0.12,  0.87,  0.73,  0.73,  0.39,  0.46,  0.37],\n",
    " [ 0.54,  0.79,  0.66,  0.27,  0.79,  0.33,  0.36,  0.83,  0.22,  0.17],\n",
    " [ 0.96,  0.63,  0.5 ,  0.88,  0.45,  0.9,   0.12,  0.92,  0.7 ,  0.79],\n",
    " [ 0.6 ,  0.02,  0.39,  0.29,  0.33,  0.07,  0.35,  0.31,  0.38,  0.84]])\n",
    "D = np.zeros_like(X)\n",
    "\n",
    "for i in range(0,len(X)):\n",
    "    for j in range(0, len(Y[0])):\n",
    "        D[i,j] = math.sqrt((X[i,j]**2)+(Y[i,j]**2))\n",
    "\n",
    "print D\n"
   ]
  },
  {
   "cell_type": "markdown",
   "metadata": {},
   "source": [
    "**Exercício 06:** Mostre o elemento com a menor distância de X e qual é essa distância."
   ]
  },
  {
   "cell_type": "code",
   "execution_count": 28,
   "metadata": {
    "collapsed": false
   },
   "outputs": [
    {
     "name": "stdout",
     "output_type": "stream",
     "text": [
      "1.04904718674 2\n"
     ]
    }
   ],
   "source": [
    "# encontre o ponto mais próximo do exercicio anterior\n"
   ]
  }
 ],
 "metadata": {
  "kernelspec": {
   "display_name": "Python 2",
   "language": "python",
   "name": "python2"
  },
  "language_info": {
   "codemirror_mode": {
    "name": "ipython",
    "version": 2
   },
   "file_extension": ".py",
   "mimetype": "text/x-python",
   "name": "python",
   "nbconvert_exporter": "python",
   "pygments_lexer": "ipython2",
   "version": "2.7.8"
  }
 },
 "nbformat": 4,
 "nbformat_minor": 0
}

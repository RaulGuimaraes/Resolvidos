{
 "cells": [
  {
   "cell_type": "markdown",
   "metadata": {},
   "source": [
    "**Exercícios de Revisão: Vetor**\n",
    "\n",
    "**1.**\tFaça um programa que receba um vetor V de N inteiros e imprima os elementos pares do vetor V.\n",
    "\n",
    "**2.**\tFaça um programa que receba um vetor V de N inteiros e imprima os elementos que estão nos índices pares do vetor V.\n",
    "\n",
    "**3.**\tFaça um programa para imprimir uma lista de nomes de alunos com nota superior a média da turma.\n",
    "\n",
    "**4.**\tFaça um programa para imprimir uma lista de nomes invertendo duas posições quaisquer desta lista.\n",
    "\n",
    "**5.**\tFaça um programa que receba uma quantidade indefinida de números inteiros e ao final mostre qual o maior deles e a quantidade de vezes que ele foi informado.\n",
    "\n",
    "**6.**\tFaça um programa que ordene uma vetor de N inteiros."
   ]
  },
  {
   "cell_type": "code",
   "execution_count": 1,
   "metadata": {
    "collapsed": false
   },
   "outputs": [
    {
     "name": "stdout",
     "output_type": "stream",
     "text": [
      "4\n",
      "6\n",
      "8\n",
      "6\n",
      "6\n",
      "4\n",
      "None\n"
     ]
    }
   ],
   "source": [
    "import numpy as np\n",
    "\n",
    "V=np.array([[1,3,4,5],[3,6,8,6],[3,6,4,3]])\n",
    "def Pares(V):\n",
    "    m,n=V.shape\n",
    "    for i in range(m):\n",
    "        for j in range(n):\n",
    "            if V[i,j]%2==0:\n",
    "                print V[i,j]\n",
    "\n",
    "print Pares (V)"
   ]
  },
  {
   "cell_type": "code",
   "execution_count": 10,
   "metadata": {
    "collapsed": false
   },
   "outputs": [
    {
     "name": "stdout",
     "output_type": "stream",
     "text": [
      "1\n",
      "3\n",
      "4\n",
      "5\n",
      "3\n",
      "8\n",
      "3\n",
      "6\n",
      "4\n",
      "3\n",
      "None\n"
     ]
    }
   ],
   "source": [
    "import numpy as np\n",
    "\n",
    "V=np.array([[1,3,4,5],[3,6,8,6],[3,6,4,3]])\n",
    "M = np.zeros_like(V)\n",
    "def Pares(V):\n",
    "    m,n=V.shape\n",
    "    for i in range(m):\n",
    "        for j in range(n):\n",
    "            if j%2==0 or i%2==0:\n",
    "                print V[i,j]\n",
    "\n",
    "print Pares (V)"
   ]
  },
  {
   "cell_type": "code",
   "execution_count": 9,
   "metadata": {
    "collapsed": false
   },
   "outputs": [
    {
     "name": "stdout",
     "output_type": "stream",
     "text": [
      "5\n",
      "['C', 'D', 'E', 'G']\n"
     ]
    }
   ],
   "source": [
    "import numpy as np\n",
    "a=np.array([2,5,6,9,8,5,6])\n",
    "b=np.array([\"A\",\"B\",\"C\",\"D\",\"E\",\"F\",\"G\"])\n",
    "x=0\n",
    "lista=[]\n",
    "\n",
    "for i in range(len(a)):\n",
    "    x=x+a[i]\n",
    "\n",
    "y=x/len(a)\n",
    "print y\n",
    "\n",
    "for i in range(len(a)):\n",
    "    if a[i]>y:\n",
    "        lista.append(b[i])\n",
    "\n",
    "print lista\n",
    "    \n"
   ]
  },
  {
   "cell_type": "code",
   "execution_count": null,
   "metadata": {
    "collapsed": true
   },
   "outputs": [],
   "source": [
    "b=np.array([\"A\",\"B\",\"C\",\"D\",\"E\",\"F\",\"G\"])\n",
    "lista=[]\n",
    "\n",
    "for i in range (len(w)):\n",
    "    a[i]=\n",
    "    \n"
   ]
  },
  {
   "cell_type": "code",
   "execution_count": 11,
   "metadata": {
    "collapsed": false
   },
   "outputs": [
    {
     "name": "stdout",
     "output_type": "stream",
     "text": [
      "[[ 0.24354896  0.28728696  0.86660297  0.2379967   0.20669753  0.393879\n",
      "   0.37844875  0.86247994  0.24852063]]\n"
     ]
    }
   ],
   "source": [
    "a=np.random.random([1,5,6,9,8,5,1,2,5,8,4,6,10]) \n",
    "\n",
    "for i in range(len(a))\n"
   ]
  },
  {
   "cell_type": "markdown",
   "metadata": {},
   "source": [
    "**Exercícios de Revisão: Matriz**\n",
    "\n",
    "**1.**\tFaça um programa que recebe duas matrizes A e B, ambas de tamanho N por N. Este programa deve mostrar a matriz A+B ou seja a matriz resultante da soma termo a termo da matriz A com a matriz B. Para esta questão fazer três funções: lerMatriz() para retornar uma matriz lida do teclado; somaMatriz(A,B) que recebe duas matrizes de mesmo tamanho e retorna uma outra matriz com a somo; imprimeMatriz(A) para imprimir uma matriz A. Estas funções deverão ser chamadas do programa principal.\n",
    "\n",
    "\n",
    "**2.** Faça um programa que receba uma matriz NxN e apresente o valor da soma dos componentes de cada linha da matriz.\n",
    "\n",
    "**3.** Faça um programa que receba uma matriz NxN, calcule a transposta com a função transpostaMatriz(A), e imprima a matriz transposta.\n",
    "\n",
    "**4.** Faça um programa que recebe duas matrizes A e B, ambas de tamanho N por Q e Q por M, respectivamente. Este programa deve mostrar a matriz A*B ou seja a matriz resultante da multiplicação da matriz A com a matriz B. Use as funções de ler e imprimir matriz da primeira questão."
   ]
  },
  {
   "cell_type": "code",
   "execution_count": null,
   "metadata": {
    "collapsed": true
   },
   "outputs": [],
   "source": [
    "def Matriz():\n",
    "    def lerMatriz():\n",
    "        m,n=A.shape\n",
    "        m,n=B.shape\n",
    "        for i in range(n):\n",
    "            for j in range(m):\n",
    "                \n",
    "    def somaMatriz(A,B):\n",
    "        print A+B\n",
    "    def imprimeMatriz(A):\n",
    "        print A\n",
    "                "
   ]
  },
  {
   "cell_type": "code",
   "execution_count": 3,
   "metadata": {
    "collapsed": false
   },
   "outputs": [
    {
     "name": "stdout",
     "output_type": "stream",
     "text": [
      "[ 8 18 20  4]\n"
     ]
    }
   ],
   "source": [
    "import numpy as np\n",
    "\n",
    "A=np.array([[1,3,4,1],[3,6,8,1],[3,6,4,1],[1,3,4,1]])\n",
    "def Matriz(A):\n",
    "    a=0\n",
    "    m,n=A.shape\n",
    "    for i in range (m):\n",
    "        for j in range (n):\n",
    "            a=a+A[j]\n",
    "        return a\n",
    "    \n",
    "print Matriz(A)"
   ]
  },
  {
   "cell_type": "code",
   "execution_count": 11,
   "metadata": {
    "collapsed": false
   },
   "outputs": [
    {
     "name": "stdout",
     "output_type": "stream",
     "text": [
      "[[1, 3, 3, 1], [3, 6, 6, 3], [4, 8, 4, 4], [1, 1, 1, 1]]\n"
     ]
    }
   ],
   "source": [
    "def TranspostaMatriz(A):\n",
    "    m,n = A.shape\n",
    "    transposta = []\n",
    "    for i in range (m):\n",
    "        linha_transposta = []\n",
    "        for linha in A:\n",
    "            linha_transposta.append(linha[i])\n",
    "        transposta.append(linha_transposta)\n",
    "    return transposta    \n",
    "\n",
    "print TranspostaMatriz(A)"
   ]
  },
  {
   "cell_type": "code",
   "execution_count": 7,
   "metadata": {
    "collapsed": false
   },
   "outputs": [
    {
     "ename": "IndexError",
     "evalue": "index 3 is out of bounds for axis 0 with size 3",
     "output_type": "error",
     "traceback": [
      "\u001b[1;31m---------------------------------------------------------------------------\u001b[0m",
      "\u001b[1;31mIndexError\u001b[0m                                Traceback (most recent call last)",
      "\u001b[1;32m<ipython-input-7-78655b7e23ff>\u001b[0m in \u001b[0;36m<module>\u001b[1;34m()\u001b[0m\n\u001b[0;32m     17\u001b[0m \u001b[1;33m\u001b[0m\u001b[0m\n\u001b[0;32m     18\u001b[0m \u001b[1;33m\u001b[0m\u001b[0m\n\u001b[1;32m---> 19\u001b[1;33m \u001b[1;32mprint\u001b[0m \u001b[0mMultipl\u001b[0m\u001b[1;33m(\u001b[0m\u001b[0mA\u001b[0m\u001b[1;33m,\u001b[0m\u001b[0mB\u001b[0m\u001b[1;33m)\u001b[0m\u001b[1;33m\u001b[0m\u001b[0m\n\u001b[0m",
      "\u001b[1;32m<ipython-input-7-78655b7e23ff>\u001b[0m in \u001b[0;36mMultipl\u001b[1;34m(A, B)\u001b[0m\n\u001b[0;32m     14\u001b[0m                 \u001b[1;32mfor\u001b[0m \u001b[0mb\u001b[0m \u001b[1;32min\u001b[0m \u001b[0mrange\u001b[0m\u001b[1;33m(\u001b[0m\u001b[0ms\u001b[0m\u001b[1;33m)\u001b[0m\u001b[1;33m:\u001b[0m\u001b[1;33m\u001b[0m\u001b[0m\n\u001b[0;32m     15\u001b[0m                     \u001b[0mq\u001b[0m\u001b[1;33m=\u001b[0m\u001b[0mB\u001b[0m\u001b[1;33m[\u001b[0m\u001b[0mb\u001b[0m\u001b[1;33m,\u001b[0m\u001b[0ma\u001b[0m\u001b[1;33m]\u001b[0m\u001b[1;33m\u001b[0m\u001b[0m\n\u001b[1;32m---> 16\u001b[1;33m                     \u001b[0mC\u001b[0m\u001b[1;33m[\u001b[0m\u001b[0mm\u001b[0m\u001b[1;33m,\u001b[0m\u001b[0ms\u001b[0m\u001b[1;33m]\u001b[0m\u001b[1;33m=\u001b[0m\u001b[0mp\u001b[0m\u001b[1;33m*\u001b[0m\u001b[0mq\u001b[0m\u001b[1;33m\u001b[0m\u001b[0m\n\u001b[0m\u001b[0;32m     17\u001b[0m \u001b[1;33m\u001b[0m\u001b[0m\n\u001b[0;32m     18\u001b[0m \u001b[1;33m\u001b[0m\u001b[0m\n",
      "\u001b[1;31mIndexError\u001b[0m: index 3 is out of bounds for axis 0 with size 3"
     ]
    }
   ],
   "source": [
    "import numpy as np\n",
    "\n",
    "A=np.array([[1,3,4,1],[3,6,8,1],[3,6,4,1]])\n",
    "B=np.array([[1,3,4],[3,6,8],[3,6,4],[1,3,4]])\n",
    "\n",
    "def Multipl(A,B):\n",
    "    m,n=A.shape\n",
    "    r,s=B.shape\n",
    "    C=np.zeros((m,s))\n",
    "    for i in range(m):\n",
    "        for j in range(n):\n",
    "\n",
    "\n",
    "    \n",
    "print Multipl(A,B)"
   ]
  },
  {
   "cell_type": "markdown",
   "metadata": {},
   "source": [
    "\n",
    "\n",
    "**Exercícios de Revisão: outros **\n",
    "\n",
    "**1.**\tEscreva um programa ler dois vetores (A e B) de 10 elementos cada, usando módulo int [] lerVetor(). Após a entrada de dados, o programa deve: Obter e exibir a soma dos elementos do vetor A; Obter e exibir a soma dos elementos do vetor B; Calcular e exibir a média dos elementos dos dois vetores (uma única média); Imprimir o vetor A e depois o vetor B; Mostrar os elementos de A e B que são acima da média de ambos. Fazer módulos para todos estes itens, que deverão ser chamados no módulo principal main.\n",
    "\n",
    "**2.** Escreva a função ValidaInteiro para solicitar um número inteiro e validá-lo de forma que o mesmo  esteja dentro de um intervalo. Os limites do intervalo serão passados por parâmetro. Escreva também a função principal (início) para fazer a chamada da função com os seguintes valores:\n",
    "ValidaInteiro (0, 100)    // aceitar valores entre 0 e 100\n",
    "ValidaInteiro (-50, 50)  // aceitar valores entre -50 e 50\n",
    "Atenção:  O número deve ser lido dentro da função e o valor (válido) deve ser retornado pela função.\n",
    "\n",
    "**3.** Construa uma função que receba, por parâmetro, uma matriz (preenchida) e suas respectivas dimensões e retorne V (verdadeiro) se existir alguma linha com todos os elementos zerados e F (falso) caso contrário. \n",
    "\n",
    "**4.** Faça um programa para ler dois números inteiros positivos X e Y (1 ≤ X < Y ≤ 10000), os tempos, em segundos, que um piloto mais rápido e o piloto mais lento levam para completar uma volta em uma pista de corrida, respectivamente. Seu programa deve produzir uma única linha de saída, contendo um único inteiro: a volta em que o piloto mais lento se tornará um retardatário. Ex. In 1 10, Out 2;  In 5 7, Out 4; In 6875 7109, Out 31.\n",
    "\n",
    "**5.** Faça um programa em que receba uma sequencia de palavras e indique se ela é ou não um palíndromo (igual se lida tanto da direita para a esquerda). Ex. salas e osso são palíndromos. A entrada do programa consiste de várias palavras, uma por linha com comprimento máximo de 200 caracteres por palavra. A entrada termina com EOF. A saída consiste de várias linhas, uma para cada palavra. Você deve imprimir a palavra “sim”, caso a palavra seja palíndromo; ou “nao”, caso contrário. "
   ]
  },
  {
   "cell_type": "code",
   "execution_count": 25,
   "metadata": {
    "collapsed": false
   },
   "outputs": [
    {
     "name": "stdout",
     "output_type": "stream",
     "text": [
      "9\n"
     ]
    }
   ],
   "source": [
    "def SomaElem(X):\n",
    "    m,n=X.shape\n",
    "    a=0\n",
    "    for i in range (m):\n",
    "        for j in range (n):\n",
    "            a=a+X[i,j]\n",
    "        return a\n",
    "\n",
    "print SomaElem(A)"
   ]
  },
  {
   "cell_type": "code",
   "execution_count": 3,
   "metadata": {
    "collapsed": false,
    "scrolled": true
   },
   "outputs": [
    {
     "name": "stdout",
     "output_type": "stream",
     "text": [
      "[[ 0.  1.  0.  1.  0.  1.  0.  1.]\n",
      " [ 1.  0.  1.  0.  1.  0.  1.  0.]\n",
      " [ 0.  1.  0.  1.  0.  1.  0.  1.]\n",
      " [ 1.  0.  1.  0.  1.  0.  1.  0.]\n",
      " [ 0.  1.  0.  1.  0.  1.  0.  1.]\n",
      " [ 1.  0.  1.  0.  1.  0.  1.  0.]\n",
      " [ 0.  1.  0.  1.  0.  1.  0.  1.]\n",
      " [ 1.  0.  1.  0.  1.  0.  1.  0.]]\n",
      "\n",
      "[[ 0.  1.  0.  1.  0.  1.  0.  1.]\n",
      " [ 1.  0.  1.  0.  1.  0.  1.  0.]\n",
      " [ 0.  1.  0.  1.  0.  1.  0.  1.]\n",
      " [ 1.  0.  1.  0.  1.  0.  1.  0.]\n",
      " [ 0.  1.  0.  1.  0.  1.  0.  1.]\n",
      " [ 1.  0.  1.  0.  1.  0.  1.  0.]\n",
      " [ 0.  1.  0.  1.  0.  1.  0.  1.]\n",
      " [ 1.  0.  1.  0.  1.  0.  1.  0.]]\n"
     ]
    }
   ],
   "source": [
    "# crie uma matriz 8 x 8 com valores em forma de xadrez 0,1\n",
    "import numpy as np\n",
    "matriz=np.zeros([8,8])\n",
    "for i in range(0,8):\n",
    "    for j in range (0,8):\n",
    "        if (i+j)%2:\n",
    "            matriz[i,j]=1\n",
    "\n",
    "print matriz\n",
    "print\n",
    "matriz2 = np.array([[0.,1.]*4,[1.,0.]*4]*4)\n",
    "print matriz2\n"
   ]
  },
  {
   "cell_type": "markdown",
   "metadata": {},
   "source": [
    "**Exercício 02:** Uma matriz normalizada é definda por:\n",
    "\n",
    "$$\n",
    "n_{ij} = \\frac{a_{ij} - min(A)}{max(A)-min(A)}\n",
    "$$\n",
    "\n",
    "Normalize a matriz abaixo."
   ]
  },
  {
   "cell_type": "code",
   "execution_count": 4,
   "metadata": {
    "collapsed": false
   },
   "outputs": [
    {
     "name": "stdout",
     "output_type": "stream",
     "text": [
      "[[ 0.5   0.25  0.    1.    0.  ]\n",
      " [ 0.25  0.    0.75  1.    0.  ]\n",
      " [ 1.    0.25  0.    1.    0.5 ]]\n"
     ]
    }
   ],
   "source": [
    "# normalize uma matriz\n",
    "matriz = np.array( [[3.,2.,1.,5.,1.],[2.,1.,4.,5.,1.],[5.,2.,1.,5.,3.] ] )\n",
    "matriz2 = matriz\n",
    "\n",
    "min = matriz.min()\n",
    "denom = matriz.max()-min\n",
    "\n",
    "for i in range(0,matriz.shape[0]): #linhas i\n",
    "    for j in range(0,matriz.shape[1]): #coluna j\n",
    "        matriz2[i,j] = (matriz[i,j]-min)/denom\n",
    "\n",
    "print matriz"
   ]
  },
  {
   "cell_type": "code",
   "execution_count": null,
   "metadata": {
    "collapsed": true
   },
   "outputs": [],
   "source": []
  }
 ],
 "metadata": {
  "kernelspec": {
   "display_name": "Python 2",
   "language": "python",
   "name": "python2"
  },
  "language_info": {
   "codemirror_mode": {
    "name": "ipython",
    "version": 2
   },
   "file_extension": ".py",
   "mimetype": "text/x-python",
   "name": "python",
   "nbconvert_exporter": "python",
   "pygments_lexer": "ipython2",
   "version": "2.7.8"
  }
 },
 "nbformat": 4,
 "nbformat_minor": 0
}

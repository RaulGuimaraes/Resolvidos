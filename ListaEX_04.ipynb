{
 "cells": [
  {
   "cell_type": "markdown",
   "metadata": {},
   "source": [
    "**Exercício 01:** Crie uma função ContaPalavras que receba como entrada o nome de um arquivo de texto e retorne a frequência de cada palavra contida nele."
   ]
  },
  {
   "cell_type": "code",
   "execution_count": 11,
   "metadata": {
    "collapsed": false
   },
   "outputs": [
    {
     "name": "stdout",
     "output_type": "stream",
     "text": [
      "a 1\n",
      "do 2\n",
      "python. 1\n",
      "e 1\n",
      "Além 1\n",
      "conversão, 1\n",
      "temos 1\n",
      "Com 1\n",
      "mais 1\n",
      "espaços. 1\n",
      "assim, 1\n",
      "estruturas 1\n",
      "um 1\n",
      "acontece 1\n",
      "exemplo 1\n",
      "quebradas. 1\n",
      "letras 1\n",
      "﻿E 1\n",
      "algumas 1\n",
      "usando 1\n"
     ]
    }
   ],
   "source": [
    "# Contador de palavras\n",
    "import codecs\n",
    "from collections import defaultdict\n",
    "\n",
    "def ContaPalavras(texto):\n",
    "    ocorrencias = defaultdict(int)  \n",
    "    f = codecs.open(texto, 'r', 'utf-8')\n",
    "    for linha in f:    \n",
    "        for palavra in linha.split():\n",
    "            ocorrencias[palavra] = ocorrencias[palavra] + 1\n",
    "    f.close()\n",
    "    return ocorrencias\n",
    "    \n",
    "ocorrencias = ContaPalavras(\"exemplo.txt\")\n",
    "for chave, valor in ocorrencias.iteritems():\n",
    "    print chave, valor"
   ]
  },
  {
   "cell_type": "markdown",
   "metadata": {},
   "source": [
    "**Exercício 02:** Crie uma função ConverteData() que recebe uma string no formato DIA-MES-ANO e retorne uma string no formato DIA-MES_NUMERO-ANO. Exemplo:\n",
    "\n",
    "'01-MAI-2000' => '01-05-2000'.\n",
    "\n",
    "Você pode separar a string em uma lista de strings da seguinte maneira:\n",
    "\n",
    "```\n",
    "data = '01-MAI-2000'\n",
    "lista = data.split('-')\n",
    "print lista # ['01','MAI','2000']\n",
    "```\n",
    "\n",
    "E pode juntar novamente usando `join`:\n",
    "\n",
    "```\n",
    "lista = ['01','05', '2000']\n",
    "data = '-'.join(lista)\n",
    "print data # '01-05-2000'\n",
    "```"
   ]
  },
  {
   "cell_type": "code",
   "execution_count": 4,
   "metadata": {
    "collapsed": false
   },
   "outputs": [
    {
     "name": "stdout",
     "output_type": "stream",
     "text": [
      "01-05-2000\n"
     ]
    }
   ],
   "source": [
    "# converter data no formato 01-MAI-2000 em 01-05-2000\n",
    "def ConverteData(data):\n",
    "\n",
    "print ConverteData('01-MAI-2000')"
   ]
  },
  {
   "cell_type": "markdown",
   "metadata": {},
   "source": [
    "**Exercício 03:** Crie um dicionário chamado Dados que tenha como chave um número de 2 até 12 e o valor seja uma lista contendo todas as combinações dos valores de dois dados que resulta nessa chave."
   ]
  },
  {
   "cell_type": "code",
   "execution_count": 4,
   "metadata": {
    "collapsed": false,
    "scrolled": true
   },
   "outputs": [
    {
     "name": "stdout",
     "output_type": "stream",
     "text": [
      "2 [(1, 1)]\n",
      "3 [(1, 2), (2, 1)]\n",
      "4 [(1, 3), (2, 2), (3, 1)]\n",
      "5 [(1, 4), (2, 3), (3, 2), (4, 1)]\n",
      "6 [(1, 5), (2, 4), (3, 3), (4, 2), (5, 1)]\n",
      "7 [(1, 6), (2, 5), (3, 4), (4, 3), (5, 2), (6, 1)]\n",
      "8 [(2, 6), (3, 5), (4, 4), (5, 3), (6, 2)]\n",
      "9 [(3, 6), (4, 5), (5, 4), (6, 3)]\n",
      "10 [(4, 6), (5, 5), (6, 4)]\n",
      "11 [(5, 6), (6, 5)]\n",
      "12 [(6, 6)]\n"
     ]
    }
   ],
   "source": [
    "# crie um dicionário em que a chave é um número de 2 a 12 \n",
    "# e o valor é uma lista de combinações de dois dados que resulta na chave\n",
    "Dados={2:[(1, 1)],3:[(1, 2), (2, 1)],4:[(1, 3), (2, 2), (3, 1)],5:[(1, 4), (2, 3), (3, 2), (4, 1)],6:[(1, 5), (2, 4), (3, 3), (4, 2), (5, 1)],7:[(1, 6), (2, 5), (3, 4), (4, 3), (5, 2), (6, 1)],8:[(2, 6), (3, 5), (4, 4), (5, 3), (6, 2)],9:[(3, 6), (4, 5), (5, 4), (6, 3)],10:[(4, 6), (5, 5), (6, 4)],11:[(5, 6), (6, 5)],12:[(6, 6)]}\n",
    "\n",
    "for chave, valor in Dados.iteritems():\n",
    "    print chave, valor"
   ]
  },
  {
   "cell_type": "markdown",
   "metadata": {},
   "source": [
    "**Exercício 04:** Crie um dicionário onde as chaves são palavras em português e os valores sua tradução para o inglês. Use todas as palavras do texto do exercício 01.\n",
    "\n",
    "Crie uma função Traduz() que recebe o nome do arquivo texto como parâmetro e retorna uma string com a tradução."
   ]
  },
  {
   "cell_type": "code",
   "execution_count": 29,
   "metadata": {
    "collapsed": false
   },
   "outputs": [
    {
     "name": "stdout",
     "output_type": "stream",
     "text": [
      "﻿E assim , acontece a conversao , usando um exemplo do python  . \r\n",
      "\n",
      "﻿E thus , takes place the conversion , by using an example do python .\n"
     ]
    }
   ],
   "source": [
    "# crie um pequeno dicionário de inglês para português e use para traduzir frases simples\n",
    "DIC = {'assim':'thus','e':'and','a':'the','acontece':'takes place', 'conversao':'conversion','usando':'by using','um':'an','exemplo':'example', 'of': 'do', 'with':'com', 'algumas': 'a few', 'letters': 'letras', 'espaços':'spaces'}\n",
    "\n",
    "def Traduz(texto):\n",
    "    lista = []\n",
    "    f = codecs.open(texto, 'r', 'utf-8')\n",
    "    for linha in f: \n",
    "        print linha\n",
    "        for palavra in linha.split():\n",
    "            lista.append(DIC.get(palavra,palavra))\n",
    "      \n",
    "        return ' '.join(lista)       \n",
    "    f.close()\n",
    "\n",
    "print Traduz('exemplo.txt')"
   ]
  },
  {
   "cell_type": "markdown",
   "metadata": {},
   "source": [
    "**Exercício 05:** A Cifra de César é uma forma simples de criptografar um texto. O procedimento é simples:\n",
    "\n",
    "- dado um número $n$\n",
    "- crie um mapa de substituição em que cada letra será substituida pela n-ésima letra após ela no alfabeto. Ex.:\n",
    "\n",
    "```\n",
    "n = 1\n",
    "A -> B\n",
    "B -> C\n",
    "...\n",
    "n = 2\n",
    "A -> C\n",
    "B -> D\n",
    "...\n",
    "```\n",
    "\n",
    "A Codificação é feita substituindo cada letra da frase pelo correspondente do mapa.\n",
    "\n",
    "Para Decodificar uma frase, basta criar um mapa utilizando $-n$ ao invés de $n$.\n",
    "\n",
    "Crie uma função ConstroiDic() que recebe um valor n como entrada e cria um mapa de substituição. Utilize a constante `string.ascii_letters` para obter todas as letras do alfabeto. \n",
    "\n",
    "Note que o mapa é cíclico, ou seja, para n=1, a letra Z tem que ser substituida pela letra A. Isso pode ser feito utilizando o operador '%'.\n",
    "\n",
    "Crie uma função Codifica() que recebe como parâmetros uma string contendo uma frase e um valor para n, essa função deve construir o dicionário e retornar a frase codificada.\n",
    "\n",
    "Para Decodificar o texto, basta chamar a função Codifica() pasando -n como parâmetro."
   ]
  },
  {
   "cell_type": "code",
   "execution_count": 32,
   "metadata": {
    "collapsed": false,
    "scrolled": true
   },
   "outputs": [
    {
     "ename": "NameError",
     "evalue": "name 'Codifica' is not defined",
     "output_type": "error",
     "traceback": [
      "\u001b[1;31m---------------------------------------------------------------------------\u001b[0m",
      "\u001b[1;31mNameError\u001b[0m                                 Traceback (most recent call last)",
      "\u001b[1;32m<ipython-input-32-d3abfb10ebe1>\u001b[0m in \u001b[0;36m<module>\u001b[1;34m()\u001b[0m\n\u001b[0;32m     14\u001b[0m \u001b[1;33m\u001b[0m\u001b[0m\n\u001b[0;32m     15\u001b[0m \u001b[1;33m\u001b[0m\u001b[0m\n\u001b[1;32m---> 16\u001b[1;33m \u001b[0ml\u001b[0m \u001b[1;33m=\u001b[0m \u001b[0mCodifica\u001b[0m\u001b[1;33m(\u001b[0m\u001b[1;34m'Vou tirar dez na proxima prova'\u001b[0m\u001b[1;33m,\u001b[0m \u001b[1;36m5\u001b[0m\u001b[1;33m)\u001b[0m\u001b[1;33m\u001b[0m\u001b[0m\n\u001b[0m\u001b[0;32m     17\u001b[0m \u001b[1;32mprint\u001b[0m \u001b[0ml\u001b[0m\u001b[1;33m\u001b[0m\u001b[0m\n\u001b[0;32m     18\u001b[0m \u001b[1;32mprint\u001b[0m \u001b[0mCodifica\u001b[0m\u001b[1;33m(\u001b[0m\u001b[0ml\u001b[0m\u001b[1;33m,\u001b[0m\u001b[1;33m-\u001b[0m\u001b[1;36m5\u001b[0m\u001b[1;33m)\u001b[0m\u001b[1;33m\u001b[0m\u001b[0m\n",
      "\u001b[1;31mNameError\u001b[0m: name 'Codifica' is not defined"
     ]
    }
   ],
   "source": [
    "# cifra de César\n",
    "\n",
    "import string\n",
    "\n",
    "def ConstroiDic(n):\n",
    "    lista=string.ascii_letters \n",
    "    for letra in lista:\n",
    "        lista[n] = lista [(n+(52%n))]\n",
    "    return lista\n",
    "\n",
    "    \n",
    "def Codifica(frase, n):\n",
    "    \n",
    "import string\n",
    "\n",
    "def ConstroiDic(n):\n",
    "\n",
    "    \n",
    "def Codifica(frase, n):\n",
    "    lista = list(frase)\n",
    "    resulta = \"\"\n",
    "    for letra in lista:\n",
    "        if (letra >= 'a' and letra <= 'z') or (letra >= 'A' and letra <= 'Z'):\n",
    "            if (i >= 'a' and i <= 'z'):\n",
    "                ord_c = (ord(i) - ord('a') + key) % 26\n",
    "                text_encrypt += chr(ord_c + ord('a'))\n",
    "            else:\n",
    "                ord_c = (ord(i) - ord('A') + key) % 26\n",
    "                text_encrypt += chr(ord_c + ord('A'))\n",
    "    \n",
    "    \n",
    "\n",
    "l = Codifica('Vou tirar dez na proxima prova', 5)\n",
    "print l\n",
    "print Codifica(l,-5)"
   ]
  },
  {
   "cell_type": "code",
   "execution_count": 14,
   "metadata": {
    "collapsed": false
   },
   "outputs": [
    {
     "name": "stdout",
     "output_type": "stream",
     "text": [
      "\n",
      "abcdefghijklmnopqrstuvwxyzABCDEFGHIJKLMNOPQRSTUVWXYZ\n"
     ]
    }
   ],
   "source": [
    "def encrypt(text, key):\n",
    "\ttext_list = list(text)\n",
    "\ttext_encrypt = \"\"\n",
    "\tfor i in text_list:\n",
    "\t\t# check if char is a letter\n",
    "\t\tif (i >= 'a' and i <= 'z') or (i >= 'A' and i <= 'Z'):\n",
    "\t\t\tif (i >= 'a' and i <= 'z'):\n",
    "\t\t\t\tord_c = (ord(i) - ord('a') + key) % 26\n",
    "\t\t\t\ttext_encrypt += chr(ord_c + ord('a'))\n",
    "\t\t\telse:\n",
    "\t\t\t\tord_c = (ord(i) - ord('A') + key) % 26\n",
    "\t\t\t\ttext_encrypt += chr(ord_c + ord('A'))\n",
    "\t\telse:\n",
    "\t\t\ttext_encrypt += i\n",
    "\treturn text_encrypt"
   ]
  },
  {
   "cell_type": "markdown",
   "metadata": {},
   "source": [
    "**Exercício 06:** Faça uma função que leia a tabela periódica de um arquivo (você construirá esse arquivo) e armazene em um dicionário."
   ]
  },
  {
   "cell_type": "code",
   "execution_count": 6,
   "metadata": {
    "collapsed": false
   },
   "outputs": [],
   "source": [
    "# tabela periodica"
   ]
  },
  {
   "cell_type": "markdown",
   "metadata": {},
   "source": [
    "**Exercício 07:** Assista o vídeo abaixo e crie uma lista com os personagens da letra da música.\n",
    "\n",
    "Em seguida, utilizando dois laços `for` percorra essa lista e escreva a letra da música."
   ]
  },
  {
   "cell_type": "code",
   "execution_count": 43,
   "metadata": {
    "collapsed": false
   },
   "outputs": [
    {
     "data": {
      "text/html": [
       "\n",
       "        <iframe\n",
       "            width=\"640\"\n",
       "            height=\"480\"\n",
       "            src=\"https://www.youtube.com/embed/BZzNBNoae-Y\"\n",
       "            frameborder=\"0\"\n",
       "            allowfullscreen\n",
       "        ></iframe>\n",
       "        "
      ],
      "text/plain": [
       "<IPython.lib.display.YouTubeVideo at 0x7f176030b0d0>"
      ]
     },
     "execution_count": 43,
     "metadata": {},
     "output_type": "execute_result"
    }
   ],
   "source": [
    "from IPython.display import YouTubeVideo\n",
    "YouTubeVideo('BZzNBNoae-Y', 640,480)"
   ]
  },
  {
   "cell_type": "code",
   "execution_count": 7,
   "metadata": {
    "collapsed": false
   },
   "outputs": [],
   "source": [
    "# velha a fiar\n"
   ]
  },
  {
   "cell_type": "markdown",
   "metadata": {},
   "source": [
    "**Exercício 08:** Faça uma função que converta um número decimal para romano. Para isso construa um dicionário em que as chaves são os números decimais e os valores o equivalente em romano.\n",
    "\n",
    "O algoritmo funciona da seguinte forma:\n",
    "\n",
    "- Para cada valor decimal do dicionário, do maior para o menor\n",
    "- Enquanto eu puder subtrair esse valor de x\n",
    "- subtraio o valor de x e concateno o equivalente romano em uma string\n",
    "\n",
    "**Exercício 09:** Faça uma função que converta um número romano para decimal. Para isso construa um dicionário com o inverso do que foi feito no ex. anterior. O algoritmo fica assim:\n",
    "\n",
    "- Para i de 0 até o tamanho da string do número romano\n",
    "- cria a string formada pela letra i e letra i+1 caso i seja menor que o tamanho da string - 1\n",
    "- cria a string formada pela letra i-1 e i, caso i seja maior que 0\n",
    "- se a primeira string estiver no dicionário, some o valor em x\n",
    "- senão se a segunda string NÃO estiver no dicionário, some o valor da letra i em x"
   ]
  },
  {
   "cell_type": "code",
   "execution_count": 41,
   "metadata": {
    "collapsed": false
   },
   "outputs": [
    {
     "name": "stdout",
     "output_type": "stream",
     "text": [
      "MCCCXLV 1345\n"
     ]
    }
   ],
   "source": [
    "# dec - romano - dec\n",
    "def DecRoman(x):\n",
    "\n",
    "    \n",
    "    \n",
    "    \n",
    "def RomanDec(r):\n",
    "\n",
    "    \n",
    "    \n",
    "r = DecRoman(1345)\n",
    "x = RomanDec(r)\n",
    "print r,x"
   ]
  }
 ],
 "metadata": {
  "kernelspec": {
   "display_name": "Python 2",
   "language": "python",
   "name": "python2"
  }
 },
 "nbformat": 4,
 "nbformat_minor": 0
}
